{
 "metadata": {
  "language_info": {
   "codemirror_mode": {
    "name": "ipython",
    "version": 3
   },
   "file_extension": ".py",
   "mimetype": "text/x-python",
   "name": "python",
   "nbconvert_exporter": "python",
   "pygments_lexer": "ipython3",
   "version": "3.7.3-final"
  },
  "orig_nbformat": 2,
  "kernelspec": {
   "name": "python3",
   "display_name": "Python 3",
   "language": "python"
  }
 },
 "nbformat": 4,
 "nbformat_minor": 2,
 "cells": [
  {
   "cell_type": "code",
   "execution_count": 58,
   "metadata": {},
   "outputs": [
    {
     "output_type": "execute_result",
     "data": {
      "text/plain": [
       "          Unnamed: 0    #  Name  Type 2  Total   HP  Attack  Defense  Sp. Atk  \\\n",
       "Type 1                                                                          \n",
       "Water            112  112   112      53    112  112     112      112      112   \n",
       "Normal            98   98    98      37     98   98      98       98       98   \n",
       "Grass             70   70    70      37     70   70      70       70       70   \n",
       "Bug               69   69    69      52     69   69      69       69       69   \n",
       "Psychic           57   57    57      19     57   57      57       57       57   \n",
       "Fire              52   52    52      24     52   52      52       52       52   \n",
       "Electric          44   44    44      17     44   44      44       44       44   \n",
       "Rock              44   44    44      35     44   44      44       44       44   \n",
       "Ghost             32   32    32      22     32   32      32       32       32   \n",
       "Ground            32   32    32      19     32   32      32       32       32   \n",
       "Dragon            32   32    32      21     32   32      32       32       32   \n",
       "Dark              31   31    31      21     31   31      31       31       31   \n",
       "Poison            28   28    28      13     28   28      28       28       28   \n",
       "Fighting          27   27    27       7     27   27      27       27       27   \n",
       "Steel             27   27    27      22     27   27      27       27       27   \n",
       "Ice               24   24    24      11     24   24      24       24       24   \n",
       "Fairy             17   17    17       2     17   17      17       17       17   \n",
       "Flying             4    4     4       2      4    4       4        4        4   \n",
       "\n",
       "          Sp. Def  Speed  Generation  Legendary  \n",
       "Type 1                                           \n",
       "Water         112    112         112        112  \n",
       "Normal         98     98          98         98  \n",
       "Grass          70     70          70         70  \n",
       "Bug            69     69          69         69  \n",
       "Psychic        57     57          57         57  \n",
       "Fire           52     52          52         52  \n",
       "Electric       44     44          44         44  \n",
       "Rock           44     44          44         44  \n",
       "Ghost          32     32          32         32  \n",
       "Ground         32     32          32         32  \n",
       "Dragon         32     32          32         32  \n",
       "Dark           31     31          31         31  \n",
       "Poison         28     28          28         28  \n",
       "Fighting       27     27          27         27  \n",
       "Steel          27     27          27         27  \n",
       "Ice            24     24          24         24  \n",
       "Fairy          17     17          17         17  \n",
       "Flying          4      4           4          4  "
      ],
      "text/html": "<div>\n<style scoped>\n    .dataframe tbody tr th:only-of-type {\n        vertical-align: middle;\n    }\n\n    .dataframe tbody tr th {\n        vertical-align: top;\n    }\n\n    .dataframe thead th {\n        text-align: right;\n    }\n</style>\n<table border=\"1\" class=\"dataframe\">\n  <thead>\n    <tr style=\"text-align: right;\">\n      <th></th>\n      <th>Unnamed: 0</th>\n      <th>#</th>\n      <th>Name</th>\n      <th>Type 2</th>\n      <th>Total</th>\n      <th>HP</th>\n      <th>Attack</th>\n      <th>Defense</th>\n      <th>Sp. Atk</th>\n      <th>Sp. Def</th>\n      <th>Speed</th>\n      <th>Generation</th>\n      <th>Legendary</th>\n    </tr>\n    <tr>\n      <th>Type 1</th>\n      <th></th>\n      <th></th>\n      <th></th>\n      <th></th>\n      <th></th>\n      <th></th>\n      <th></th>\n      <th></th>\n      <th></th>\n      <th></th>\n      <th></th>\n      <th></th>\n      <th></th>\n    </tr>\n  </thead>\n  <tbody>\n    <tr>\n      <th>Water</th>\n      <td>112</td>\n      <td>112</td>\n      <td>112</td>\n      <td>53</td>\n      <td>112</td>\n      <td>112</td>\n      <td>112</td>\n      <td>112</td>\n      <td>112</td>\n      <td>112</td>\n      <td>112</td>\n      <td>112</td>\n      <td>112</td>\n    </tr>\n    <tr>\n      <th>Normal</th>\n      <td>98</td>\n      <td>98</td>\n      <td>98</td>\n      <td>37</td>\n      <td>98</td>\n      <td>98</td>\n      <td>98</td>\n      <td>98</td>\n      <td>98</td>\n      <td>98</td>\n      <td>98</td>\n      <td>98</td>\n      <td>98</td>\n    </tr>\n    <tr>\n      <th>Grass</th>\n      <td>70</td>\n      <td>70</td>\n      <td>70</td>\n      <td>37</td>\n      <td>70</td>\n      <td>70</td>\n      <td>70</td>\n      <td>70</td>\n      <td>70</td>\n      <td>70</td>\n      <td>70</td>\n      <td>70</td>\n      <td>70</td>\n    </tr>\n    <tr>\n      <th>Bug</th>\n      <td>69</td>\n      <td>69</td>\n      <td>69</td>\n      <td>52</td>\n      <td>69</td>\n      <td>69</td>\n      <td>69</td>\n      <td>69</td>\n      <td>69</td>\n      <td>69</td>\n      <td>69</td>\n      <td>69</td>\n      <td>69</td>\n    </tr>\n    <tr>\n      <th>Psychic</th>\n      <td>57</td>\n      <td>57</td>\n      <td>57</td>\n      <td>19</td>\n      <td>57</td>\n      <td>57</td>\n      <td>57</td>\n      <td>57</td>\n      <td>57</td>\n      <td>57</td>\n      <td>57</td>\n      <td>57</td>\n      <td>57</td>\n    </tr>\n    <tr>\n      <th>Fire</th>\n      <td>52</td>\n      <td>52</td>\n      <td>52</td>\n      <td>24</td>\n      <td>52</td>\n      <td>52</td>\n      <td>52</td>\n      <td>52</td>\n      <td>52</td>\n      <td>52</td>\n      <td>52</td>\n      <td>52</td>\n      <td>52</td>\n    </tr>\n    <tr>\n      <th>Electric</th>\n      <td>44</td>\n      <td>44</td>\n      <td>44</td>\n      <td>17</td>\n      <td>44</td>\n      <td>44</td>\n      <td>44</td>\n      <td>44</td>\n      <td>44</td>\n      <td>44</td>\n      <td>44</td>\n      <td>44</td>\n      <td>44</td>\n    </tr>\n    <tr>\n      <th>Rock</th>\n      <td>44</td>\n      <td>44</td>\n      <td>44</td>\n      <td>35</td>\n      <td>44</td>\n      <td>44</td>\n      <td>44</td>\n      <td>44</td>\n      <td>44</td>\n      <td>44</td>\n      <td>44</td>\n      <td>44</td>\n      <td>44</td>\n    </tr>\n    <tr>\n      <th>Ghost</th>\n      <td>32</td>\n      <td>32</td>\n      <td>32</td>\n      <td>22</td>\n      <td>32</td>\n      <td>32</td>\n      <td>32</td>\n      <td>32</td>\n      <td>32</td>\n      <td>32</td>\n      <td>32</td>\n      <td>32</td>\n      <td>32</td>\n    </tr>\n    <tr>\n      <th>Ground</th>\n      <td>32</td>\n      <td>32</td>\n      <td>32</td>\n      <td>19</td>\n      <td>32</td>\n      <td>32</td>\n      <td>32</td>\n      <td>32</td>\n      <td>32</td>\n      <td>32</td>\n      <td>32</td>\n      <td>32</td>\n      <td>32</td>\n    </tr>\n    <tr>\n      <th>Dragon</th>\n      <td>32</td>\n      <td>32</td>\n      <td>32</td>\n      <td>21</td>\n      <td>32</td>\n      <td>32</td>\n      <td>32</td>\n      <td>32</td>\n      <td>32</td>\n      <td>32</td>\n      <td>32</td>\n      <td>32</td>\n      <td>32</td>\n    </tr>\n    <tr>\n      <th>Dark</th>\n      <td>31</td>\n      <td>31</td>\n      <td>31</td>\n      <td>21</td>\n      <td>31</td>\n      <td>31</td>\n      <td>31</td>\n      <td>31</td>\n      <td>31</td>\n      <td>31</td>\n      <td>31</td>\n      <td>31</td>\n      <td>31</td>\n    </tr>\n    <tr>\n      <th>Poison</th>\n      <td>28</td>\n      <td>28</td>\n      <td>28</td>\n      <td>13</td>\n      <td>28</td>\n      <td>28</td>\n      <td>28</td>\n      <td>28</td>\n      <td>28</td>\n      <td>28</td>\n      <td>28</td>\n      <td>28</td>\n      <td>28</td>\n    </tr>\n    <tr>\n      <th>Fighting</th>\n      <td>27</td>\n      <td>27</td>\n      <td>27</td>\n      <td>7</td>\n      <td>27</td>\n      <td>27</td>\n      <td>27</td>\n      <td>27</td>\n      <td>27</td>\n      <td>27</td>\n      <td>27</td>\n      <td>27</td>\n      <td>27</td>\n    </tr>\n    <tr>\n      <th>Steel</th>\n      <td>27</td>\n      <td>27</td>\n      <td>27</td>\n      <td>22</td>\n      <td>27</td>\n      <td>27</td>\n      <td>27</td>\n      <td>27</td>\n      <td>27</td>\n      <td>27</td>\n      <td>27</td>\n      <td>27</td>\n      <td>27</td>\n    </tr>\n    <tr>\n      <th>Ice</th>\n      <td>24</td>\n      <td>24</td>\n      <td>24</td>\n      <td>11</td>\n      <td>24</td>\n      <td>24</td>\n      <td>24</td>\n      <td>24</td>\n      <td>24</td>\n      <td>24</td>\n      <td>24</td>\n      <td>24</td>\n      <td>24</td>\n    </tr>\n    <tr>\n      <th>Fairy</th>\n      <td>17</td>\n      <td>17</td>\n      <td>17</td>\n      <td>2</td>\n      <td>17</td>\n      <td>17</td>\n      <td>17</td>\n      <td>17</td>\n      <td>17</td>\n      <td>17</td>\n      <td>17</td>\n      <td>17</td>\n      <td>17</td>\n    </tr>\n    <tr>\n      <th>Flying</th>\n      <td>4</td>\n      <td>4</td>\n      <td>4</td>\n      <td>2</td>\n      <td>4</td>\n      <td>4</td>\n      <td>4</td>\n      <td>4</td>\n      <td>4</td>\n      <td>4</td>\n      <td>4</td>\n      <td>4</td>\n      <td>4</td>\n    </tr>\n  </tbody>\n</table>\n</div>"
     },
     "metadata": {},
     "execution_count": 58
    }
   ],
   "source": [
    "import pandas as pd\n",
    "df = pd.read_csv('Cool.csv')\n",
    "df.groupby(['Type 1']).count().round().sort_values('Defense', ascending = False)\n"
   ]
  }
 ]
}